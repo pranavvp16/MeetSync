{
 "cells": [
  {
   "cell_type": "code",
   "execution_count": 5,
   "metadata": {},
   "outputs": [],
   "source": [
    "from dotenv import load_dotenv\n",
    "import os "
   ]
  },
  {
   "cell_type": "code",
   "execution_count": 3,
   "metadata": {},
   "outputs": [],
   "source": [
    "from langchain.chat_models import ChatOpenAI\n",
    "# To control the randomness and creativity of the generated\n",
    "# text by an LLM, use temperature = 0.0\n",
    "chat = ChatOpenAI(temperature=0.0)\n",
    "chat"
   ]
  },
  {
   "cell_type": "code",
   "execution_count": null,
   "metadata": {},
   "outputs": [],
   "source": [
    "template_string = \"\"\"The text that is delimited in triple backticks/\n",
    "is a video transcript of developers talking working on some issue./\n",
    "Identify the action items in the transcript and make a list of them /\n",
    "with the developer assgined to it.\n",
    "transcript = ```{transcript}```\n",
    "\"\"\""
   ]
  },
  {
   "cell_type": "code",
   "execution_count": null,
   "metadata": {},
   "outputs": [],
   "source": [
    "from langchain.prompts import ChatPromptTemplate\n",
    "\n",
    "prompt_template = ChatPromptTemplate.from_template(template_string)\n"
   ]
  },
  {
   "cell_type": "code",
   "execution_count": null,
   "metadata": {},
   "outputs": [],
   "source": [
    "prompt_template.messages[0].prompt"
   ]
  },
  {
   "cell_type": "code",
   "execution_count": null,
   "metadata": {},
   "outputs": [],
   "source": [
    "prompt_template.messages[0].prompt.input_variables"
   ]
  },
  {
   "cell_type": "code",
   "execution_count": null,
   "metadata": {},
   "outputs": [],
   "source": [
    "transcript = \"\"\"\n",
    "John: Good morning, everyone. Thanks for joining this meeting. Today, I want to discuss the UI and UX issues we've been facing with our website. I've noticed some user feedback and identified a few areas that need improvement. Let's go through them one by one and brainstorm some solutions.\n",
    "\n",
    "Sarah: Sounds good, John. I've also received similar feedback from users, so it's definitely something we should address. We need to ensure a seamless user experience.\n",
    "\n",
    "Michael: Absolutely, Sarah. The user interface should be intuitive and visually appealing. Let's identify the specific problems and come up with solutions.\n",
    "\n",
    "Lisa: I agree. It's important for us to tackle this issue proactively. John, could you please walk us through the main areas of concern?\n",
    "\n",
    "John: Of course, Lisa. First, the loading time of certain pages is quite slow, affecting the overall user experience. Secondly, the navigation menu needs some restructuring to make it more user-friendly. Lastly, the color scheme doesn't align with our branding guidelines, so we need to revise it.\n",
    "\n",
    "Sarah: I can work on optimizing the loading time. I'll review the code and identify any bottlenecks that might be causing the delays. Once I find the issues, I'll implement the necessary improvements.\n",
    "\n",
    "John: That would be great, Sarah. Thank you. Now, for the navigation menu, Michael, would you be able to take a look at it?\n",
    "\n",
    "Michael: Sure thing, John. I'll analyze the current structure and suggest some modifications to make it more intuitive. Once we finalize the changes, I'll implement them on the back-end.\n",
    "\n",
    "Lisa: Perfect. Thank you, Michael. John, as for the color scheme, do you have any specific revisions in mind?\n",
    "\n",
    "John: Yes, Lisa. I'll create a document outlining the updated color scheme, taking into account our branding guidelines. Once I'm done, I'll share it with the team for feedback and implementation.\n",
    "\n",
    "Sarah: That sounds like a plan, John. It's important to maintain consistency with our branding across the website.\n",
    "\n",
    "Michael: Agreed, Sarah. Consistency plays a vital role in establishing a strong brand identity. John, please keep us in the loop regarding the color scheme changes.\n",
    "\n",
    "John: Absolutely, Michael. I'll make sure to communicate any updates promptly. Is there anything else we need to address?\n",
    "\n",
    "Lisa: I think that covers the major UI and UX issues for now. Once these tasks are complete, we can regroup and test the improvements to ensure they have the desired impact.\n",
    "\n",
    "Sarah: That sounds like a solid plan. Let's get to work, everyone. We have our assignments, and I'm confident we can resolve these issues effectively.\n",
    "\n",
    "John: I appreciate everyone's commitment to enhancing our website. Let's aim to complete these tasks within the next week and reconvene to review the improvements.\"\"\""
   ]
  },
  {
   "cell_type": "code",
   "execution_count": null,
   "metadata": {},
   "outputs": [],
   "source": [
    "customer_messages = prompt_template.format_messages(\n",
    "                    transcript = transcript)"
   ]
  },
  {
   "cell_type": "code",
   "execution_count": null,
   "metadata": {},
   "outputs": [],
   "source": [
    "print(type(customer_messages))\n",
    "print(type(customer_messages[0]))"
   ]
  },
  {
   "cell_type": "code",
   "execution_count": null,
   "metadata": {},
   "outputs": [],
   "source": [
    "print(customer_messages[0])"
   ]
  },
  {
   "cell_type": "code",
   "execution_count": null,
   "metadata": {},
   "outputs": [],
   "source": [
    "# Call the LLM to extract action items from the transcript\n",
    "customer_response = chat(customer_messages)\n",
    "print(customer_response.content)"
   ]
  }
 ],
 "metadata": {
  "kernelspec": {
   "display_name": "Python 3.9.16 ('langchain')",
   "language": "python",
   "name": "python3"
  },
  "language_info": {
   "codemirror_mode": {
    "name": "ipython",
    "version": 3
   },
   "file_extension": ".py",
   "mimetype": "text/x-python",
   "name": "python",
   "nbconvert_exporter": "python",
   "pygments_lexer": "ipython3",
   "version": "3.9.16"
  },
  "orig_nbformat": 4,
  "vscode": {
   "interpreter": {
    "hash": "2ad36f0713fb68541098a3b714077b9ce2be237fb40d7d7a0acb64b2063084fe"
   }
  }
 },
 "nbformat": 4,
 "nbformat_minor": 2
}
